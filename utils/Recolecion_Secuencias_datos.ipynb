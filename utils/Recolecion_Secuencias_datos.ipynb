{
 "cells": [
  {
   "cell_type": "code",
   "execution_count": 1,
   "id": "b9fddcde-c457-474f-bbb8-bc5988d9dc2a",
   "metadata": {},
   "outputs": [],
   "source": [
    "import os\n",
    "import cv2\n",
    "import numpy as np\n",
    "import mediapipe as mp\n",
    "import zarr"
   ]
  },
  {
   "cell_type": "markdown",
   "id": "5d7fa79f-a2b7-42bc-8cd2-6328f0ba98f7",
   "metadata": {},
   "source": [
    "## Funciones Utiles"
   ]
  },
  {
   "cell_type": "code",
   "execution_count": 2,
   "id": "bfd6c0cf-6b8f-4d8f-acca-7dab3de32a74",
   "metadata": {},
   "outputs": [],
   "source": [
    "mp_holistic = mp.solutions.holistic # Holistic model\n",
    "mp_drawing = mp.solutions.drawing_utils # Drawing utilities"
   ]
  },
  {
   "cell_type": "code",
   "execution_count": 3,
   "id": "c8e4c160-4e32-4ccb-8f6f-4e522c81402c",
   "metadata": {},
   "outputs": [],
   "source": [
    "def mediapipe_detection(frame, model):\n",
    "    frame_rgb = cv2.cvtColor(frame, cv2.COLOR_BGR2RGB) # COLOR CONVERSION BGR 2 RGB\n",
    "    frame_rgb.flags.writeable = False                  # Imagen no editable\n",
    "    results = model.process(frame_rgb)                 # Make prediction\n",
    "    return results"
   ]
  },
  {
   "cell_type": "code",
   "execution_count": 4,
   "id": "618d7906-a39e-4eb1-a49f-b1d9195e8ea8",
   "metadata": {},
   "outputs": [],
   "source": [
    "def draw_landmarks(image, results):\n",
    "    #mp_drawing.draw_landmarks(image, results.pose_landmarks, mp_holistic.POSE_CONNECTIONS) # Draw pose connections\n",
    "    mp_drawing.draw_landmarks(image, results.left_hand_landmarks, mp_holistic.HAND_CONNECTIONS) # Draw left hand connections\n",
    "    mp_drawing.draw_landmarks(image, results.right_hand_landmarks, mp_holistic.HAND_CONNECTIONS) # Draw right hand connections"
   ]
  },
  {
   "cell_type": "code",
   "execution_count": 6,
   "id": "d44fd3ba-afb0-4761-96db-e5acd3557477",
   "metadata": {
    "jupyter": {
     "source_hidden": true
    }
   },
   "outputs": [],
   "source": [
    "def draw_styled_landmarks(image, results):\n",
    "    # Draw pose connections\n",
    "    #mp_drawing.draw_landmarks(image, results.pose_landmarks, mp_holistic.POSE_CONNECTIONS\n",
    "                             #mp_drawing.DrawingSpec(color=(80,22,10), thickness=2, circle_radius=4), \n",
    "                             #mp_drawing.DrawingSpec(color=(80,44,121), thickness=2, circle_radius=2)\n",
    "    #                         ) \n",
    "    # Draw left hand connections\n",
    "    mp_drawing.draw_landmarks(image, results.left_hand_landmarks, mp_holistic.HAND_CONNECTIONS \n",
    "                             #mp_drawing.DrawingSpec(color=(121,22,76), thickness=2, circle_radius=4), \n",
    "                             #mp_drawing.DrawingSpec(color=(121,44,250), thickness=2, circle_radius=2)\n",
    "                             ) \n",
    "    # Draw right hand connections  \n",
    "    mp_drawing.draw_landmarks(image, results.right_hand_landmarks, mp_holistic.HAND_CONNECTIONS \n",
    "                             #mp_drawing.DrawingSpec(color=(245,117,66), thickness=2, circle_radius=4), \n",
    "                             #mp_drawing.DrawingSpec(color=(245,66,230), thickness=2, circle_radius=2\n",
    "                             )"
   ]
  },
  {
   "cell_type": "code",
   "execution_count": null,
   "id": "534dd4b7-f5b2-4ece-beae-facd8882273c",
   "metadata": {
    "jupyter": {
     "source_hidden": true
    }
   },
   "outputs": [],
   "source": [
    "# width = cap.get(3)\n",
    "# height = cap.get(4)\n",
    "# fps = cap.get(5)\n",
    "# print('alto:', height, 'ancho:', width, 'fps:', fps)"
   ]
  },
  {
   "cell_type": "code",
   "execution_count": 51,
   "id": "986a6183-7ce4-49fc-a2b8-92e04cfbcde8",
   "metadata": {
    "collapsed": true,
    "jupyter": {
     "outputs_hidden": true
    },
    "scrolled": true
   },
   "outputs": [
    {
     "name": "stdout",
     "output_type": "stream",
     "text": [
      "640 480\n",
      "640 480\n",
      "640 480\n",
      "640 480\n",
      "640 480\n",
      "640 480\n",
      "640 480\n",
      "640 480\n",
      "640 480\n",
      "640 480\n",
      "640 480\n",
      "640 480\n",
      "640 480\n",
      "640 480\n",
      "640 480\n",
      "640 480\n",
      "640 480\n",
      "640 480\n",
      "640 480\n",
      "640 480\n",
      "640 480\n",
      "640 480\n",
      "640 480\n"
     ]
    }
   ],
   "source": [
    "# Prueba\n",
    "cap = cv2.VideoCapture(0, cv2.CAP_DSHOW)\n",
    "# Set mediapipe model \n",
    "with mp_holistic.Holistic(\n",
    "    #static_image_mode=True,\n",
    "    min_detection_confidence=0.5,\n",
    "    min_tracking_confidence=0.5) as holistic:\n",
    "    while cap.isOpened():\n",
    "        # Read camera\n",
    "        ret, frame = cap.read()\n",
    "        w, h = frame.shape[1], frame.shape[0]\n",
    "        print(w, h)\n",
    "        # Make detections\n",
    "        results = mediapipe_detection(frame, holistic)\n",
    "        # Draw landmarks\n",
    "        draw_landmarks(frame, results)\n",
    "        # Show to screen\n",
    "        cv2.imshow('Camara Frame', frame)\n",
    "\n",
    "        # Break gracefully\n",
    "        t = cv2.waitKey(1)\n",
    "        if t == ord('q') or t == 27:\n",
    "            break\n",
    "    cap.release()\n",
    "    cv2.destroyAllWindows()"
   ]
  },
  {
   "cell_type": "code",
   "execution_count": 8,
   "id": "513b59e3-ef8f-4fcb-89fd-9397da83c9ce",
   "metadata": {},
   "outputs": [],
   "source": [
    "# # prueba 2\n",
    "# len(results.right_hand_landmarks.landmark)"
   ]
  },
  {
   "cell_type": "markdown",
   "id": "5ef5d6d9-6a7c-45c7-865b-d4f0941d727c",
   "metadata": {},
   "source": [
    "### Extraccion de puntos y procesamiento de las coordenadas"
   ]
  },
  {
   "cell_type": "code",
   "execution_count": 5,
   "id": "2bf17c6b-8ea7-438f-a377-5c35e9965089",
   "metadata": {},
   "outputs": [],
   "source": [
    "from math import dist, atan2, pi"
   ]
  },
  {
   "cell_type": "code",
   "execution_count": 6,
   "id": "4f959448-5f0b-4f78-9c87-60d6a6782252",
   "metadata": {
    "jupyter": {
     "source_hidden": true
    },
    "scrolled": true
   },
   "outputs": [],
   "source": [
    "#%%timeit\n",
    "#len([coord for idx in pose_list for coord in (results.pose_landmarks.landmark[idx].x, results.pose_landmarks.landmark[idx].y)])"
   ]
  },
  {
   "cell_type": "code",
   "execution_count": 7,
   "id": "bfda87a6-2743-4826-ad31-12c13e15242f",
   "metadata": {
    "scrolled": true
   },
   "outputs": [],
   "source": [
    "#len([coord for landmark in results.right_hand_landmarks.landmark for coord in (landmark.x, landmark.y)] if results.right_hand_landmarks else [0]*42)"
   ]
  },
  {
   "cell_type": "code",
   "execution_count": 9,
   "id": "b76fe693-7120-449e-839a-5e7a17165307",
   "metadata": {},
   "outputs": [],
   "source": [
    "def extract_keypoints(results): # distancias y angulos\n",
    "    pose_list = [11, 12, 13, 14, 15, 16, 17, 18, 19, 20, 21, 22]\n",
    "    x_minl = min([landmark.x for landmark in results.left_hand_landmarks.landmark]) if results.left_hand_landmarks else 0\n",
    "    y_minl = min([landmark.y for landmark in results.left_hand_landmarks.landmark]) if results.left_hand_landmarks else 0\n",
    "    x_minr = min([landmark.x for landmark in results.right_hand_landmarks.landmark]) if results.right_hand_landmarks else 0\n",
    "    y_minr = min([landmark.y for landmark in results.right_hand_landmarks.landmark]) if results.right_hand_landmarks else 0\n",
    "    \n",
    "    lh = [coord for landmark in results.left_hand_landmarks.landmark for coord in (landmark.x - x_minl, landmark.y - y_minl)] \\\n",
    "            if results.left_hand_landmarks else [0]*42 # distancias entre los puntos minimos de la mano izquierda y los demas dedos\n",
    "    rh = [coord for landmark in results.right_hand_landmarks.landmark for coord in (landmark.x - x_minr, landmark.y - y_minr)] \\\n",
    "            if results.right_hand_landmarks else [0]*42 # distancias entre los puntos minimos de la mano derecha y los demas dedos\n",
    "    c_nx = results.pose_landmarks.landmark[0].x if results.pose_landmarks else 0.5 \n",
    "    c_ny = results.pose_landmarks.landmark[0].y if results.pose_landmarks else 0.2 # coordenada de la nariz, punto de referecia origen\n",
    "    distancias_rh = [dist((landmark.x, landmark.y), (c_nx, c_ny)) for landmark in results.right_hand_landmarks.landmark] \\\n",
    "            if results.right_hand_landmarks else [0]*21 # distancia de cada dedo al punto de referencia\n",
    "    distancias_lh = [dist((landmark.x, landmark.y), (c_nx, c_ny)) for landmark in results.left_hand_landmarks.landmark] \\\n",
    "            if results.left_hand_landmarks else [0]*21 \n",
    "    angulos = [atan2((results.pose_landmarks.landmark[idx].y - c_ny), (results.pose_landmarks.landmark[idx].x - c_nx))/(2*pi) for idx in pose_list] \\\n",
    "            if results.pose_landmarks else [0]*12 # angulos del hombro, antebrazo, brazo y la muñeca con respecto al punto de referencia\n",
    "    # 138 features en total\n",
    "    return rh + distancias_rh + angulos + lh + distancias_lh"
   ]
  },
  {
   "cell_type": "code",
   "execution_count": 12,
   "id": "b6e52b1e-5c7e-42a9-9231-9413c6a22070",
   "metadata": {},
   "outputs": [],
   "source": [
    "# test\n",
    "result_test = extract_keypoints(results)"
   ]
  },
  {
   "cell_type": "code",
   "execution_count": 13,
   "id": "fb89a116-db94-4103-981e-891cc2cec696",
   "metadata": {
    "scrolled": true
   },
   "outputs": [
    {
     "data": {
      "text/plain": [
       "138"
      ]
     },
     "execution_count": 13,
     "metadata": {},
     "output_type": "execute_result"
    }
   ],
   "source": [
    "len(result_test)"
   ]
  },
  {
   "cell_type": "markdown",
   "id": "d5bc972e-f56e-419e-80c7-4a5a6eb92d1e",
   "metadata": {},
   "source": [
    "## Configuraciónes"
   ]
  },
  {
   "cell_type": "code",
   "execution_count": 10,
   "id": "bf11b6be-2a81-4847-b087-f2a23da451bc",
   "metadata": {},
   "outputs": [
    {
     "name": "stdout",
     "output_type": "stream",
     "text": [
      "La carpeta 'Datos_lsb' ya existe\n"
     ]
    }
   ],
   "source": [
    "carpeta= \"Datos_lsb\"\n",
    "# Verificar si la carpeta ya existe\n",
    "if not os.path.exists(carpeta):\n",
    "    os.mkdir(carpeta)\n",
    "    print(f\"La carpeta '{carpeta}' ha sido creada.\")\n",
    "else:\n",
    "    print(f\"La carpeta '{carpeta}' ya existe\")"
   ]
  },
  {
   "cell_type": "code",
   "execution_count": 125,
   "id": "eab9a025-76c3-4440-9afa-8613ef81a9d8",
   "metadata": {},
   "outputs": [],
   "source": [
    "# Clases\n",
    "signos = {\n",
    "    #0: 'O' #,\n",
    "    #1: '1' #, \n",
    "    #2: '2' #, \n",
    "    #3: '3' #,\n",
    "    #4: '4'\n",
    "    #5: '5'\n",
    "    #6: '6' #, \n",
    "    #7: '7'#, \n",
    "    #8: '8' #,\n",
    "    #9: '9'\n",
    "    #10: '10' \n",
    "    #11: 'A' #, \n",
    "    #12: 'B' #, \n",
    "    #13: 'C' #, \n",
    "    #14: 'D' #, \n",
    "    #15: 'E' #, \n",
    "    #16: 'F' #, \n",
    "    #17: 'G' #,\n",
    "    #18: 'H' #, \n",
    "    #19: 'I' \n",
    "    #20: 'J' #--cam 20\n",
    "    #21: 'K' #, \n",
    "    #22: 'L' \n",
    "    #23: 'LL' #\n",
    "    #24: 'M'#, \n",
    "    #25: 'N'\n",
    "    #26: 'eNie' \n",
    "    #27: 'P'\n",
    "    #28: 'Q' #, -- cam\n",
    "    #29: 'R' #, \n",
    "    #30: 'S'\n",
    "    #31: 'T'\n",
    "    #32: 'U' #,\n",
    "    #33: 'V' #, \n",
    "    #34: 'W' #,\n",
    "    #35: 'X' #, \n",
    "    #36: 'Y'\n",
    "    #37: 'Z' #\n",
    "    #38: 'espacio' # espacio, \n",
    "    #39: 'HOLA' #-- \n",
    "    #40: 'BUENOS DIAS' #-\n",
    "    #41: 'GRACIAS' #,\n",
    "    #42 : 'POR FAVOR',\n",
    "    #43: 'YO'\n",
    "    #44: 'ABOGADO'\n",
    "    #45: 'DOCTOR'\n",
    "    #46: 'ELECTRICISTA'\n",
    "    #47: 'POLICIA'\n",
    "    #48: 'PRESIDENTE'\n",
    "    #49: 'PROFESOR'\n",
    "    #50: 'NOMBRE'\n",
    "    #51: 'ES' #ser/estar\n",
    "    #52: 'MI'  # ------\n",
    "    #53: 'TRABAJO'\n",
    "    #54: 'LA PAZ'\n",
    "    #55: 'SUCRE'\n",
    "    #56: 'COCHABAMBA'\n",
    "    57: 'VIVO'\n",
    "}\n",
    "\n",
    "# Número de videos o secuencias\n",
    "num_secuencias = 13\n",
    "# frames por cada video: 30 frames por secuencia\n",
    "longitud_secuencia = 30 # frames"
   ]
  },
  {
   "cell_type": "markdown",
   "id": "7447f5c6-b8c8-4cb0-b53a-96827aac8a80",
   "metadata": {},
   "source": [
    "## Recolección de datos"
   ]
  },
  {
   "cell_type": "code",
   "execution_count": 126,
   "id": "7bb1287a-9a03-466d-8aa1-40f9d704bf02",
   "metadata": {},
   "outputs": [],
   "source": [
    "# datos\n",
    "data = []\n",
    "label = []\n",
    "# camara 1\n",
    "cap = cv2.VideoCapture(0, cv2.CAP_DSHOW) # 0 ivcam celular, 1 camara hp\n",
    "\n",
    "# inicio de mediapipe model \n",
    "with mp_holistic.Holistic(\n",
    "    #static_image_mode=True,\n",
    "    min_detection_confidence=0.5, \n",
    "    min_tracking_confidence=0.5) as holistic:\n",
    "    # Loop through actions\n",
    "    for key, value in signos.items():\n",
    "        # Loop through sequences aka videos\n",
    "        for sequence in range(num_secuencias):\n",
    "            # Loop through video length aka sequence length\n",
    "            data_aux = []\n",
    "            for frame_num in range(longitud_secuencia + 3):\n",
    "                # lectura camara\n",
    "                ret, frame = cap.read()\n",
    "                # Deteccion de los puntos de las manos y pose\n",
    "                results = mediapipe_detection(frame, holistic)\n",
    "                # Dibuja los Landmarks\n",
    "                draw_landmarks(frame, results)\n",
    "                # logica de espera\n",
    "                if frame_num == 2: \n",
    "                    cv2.putText(frame, f'Prep - Letra {value}', (15,30), \n",
    "                               cv2.FONT_HERSHEY_SIMPLEX, 1, (0, 0, 255), 2, cv2.LINE_AA)\n",
    "                    cv2.putText(frame, f'Secuencia {sequence+1}', (15,60), \n",
    "                               cv2.FONT_HERSHEY_SIMPLEX, 1, (0, 0, 255), 2, cv2.LINE_AA)\n",
    "                    # Show to screen\n",
    "                    cv2.imshow('Frame', frame)\n",
    "                    cv2.waitKey(5000)\n",
    "                if frame_num > 2:\n",
    "                    cv2.putText(frame, f'Ahora Letra {value}', (15,30), \n",
    "                               cv2.FONT_HERSHEY_SIMPLEX, 1, (0, 255, 0), 2, cv2.LINE_AA)\n",
    "                    # Show to screen\n",
    "                    cv2.imshow('Frame', frame)\n",
    "                #if frame_num != 0:\n",
    "                    # extraer puntos o coordenadas y angulos\n",
    "                    keypoints = extract_keypoints(results) # 138 \n",
    "                    #data_aux = list(data_aux + keypoints) # 114*30\n",
    "                    data_aux.append(keypoints) # 30*138\n",
    "                # Break\n",
    "                if cv2.waitKey(1) & 0xFF == ord('q'):\n",
    "                    break\n",
    "            data.append(data_aux)\n",
    "            label.append(key)\n",
    "    cap.release()\n",
    "    cv2.destroyAllWindows()"
   ]
  },
  {
   "cell_type": "markdown",
   "id": "57d0a4b9-e556-42da-bfc5-271f9e048e77",
   "metadata": {},
   "source": [
    "## Guardado de los datos"
   ]
  },
  {
   "cell_type": "code",
   "execution_count": 127,
   "id": "eeb54b78-ce0e-42c3-89e4-22b17e8b7d18",
   "metadata": {},
   "outputs": [
    {
     "data": {
      "text/plain": [
       "(13, 30, 138)"
      ]
     },
     "execution_count": 127,
     "metadata": {},
     "output_type": "execute_result"
    }
   ],
   "source": [
    "# verificación forma del array datoss secuenciales\n",
    "np.array(data).shape"
   ]
  },
  {
   "cell_type": "code",
   "execution_count": 128,
   "id": "ba9bec71-037f-47ac-9bd9-86342a911e87",
   "metadata": {
    "scrolled": true
   },
   "outputs": [
    {
     "data": {
      "text/plain": [
       "array([57])"
      ]
     },
     "execution_count": 128,
     "metadata": {},
     "output_type": "execute_result"
    }
   ],
   "source": [
    "np.unique(label)"
   ]
  },
  {
   "cell_type": "code",
   "execution_count": 12,
   "id": "e6266cb6-1811-4bcc-8548-71d6222995bf",
   "metadata": {},
   "outputs": [],
   "source": [
    "# Conversion a numpy array por primera vez\n",
    "# data_array = np.array(data)\n",
    "# labels_array = np.array(label)\n",
    "# print(f'Tamaño de los datos rec: {data_array.shape}, labels: {labels_array.shape}')"
   ]
  },
  {
   "cell_type": "code",
   "execution_count": 28,
   "id": "d5e5d0d8-f605-4edd-8117-c608b5af5255",
   "metadata": {
    "jupyter": {
     "source_hidden": true
    }
   },
   "outputs": [],
   "source": [
    "# Guardado de los datos en formato de numpy arrays por primera vez\n",
    "# npy_path = os.path.join(carpeta,'lsb_array')\n",
    "# npy_pathlb = os.path.join(carpeta,'lsb_labels_array')\n",
    "# np.save(npy_path, data_array)\n",
    "# np.save(npy_pathlb, labels_array)"
   ]
  },
  {
   "cell_type": "code",
   "execution_count": 107,
   "id": "9060825e-caba-45a9-a069-112bdd43cd25",
   "metadata": {},
   "outputs": [
    {
     "name": "stdout",
     "output_type": "stream",
     "text": [
      "Tamaño de los datos: (1870, 30, 138), labels: (1870,)\n"
     ]
    }
   ],
   "source": [
    "# Carga de los datos zarr ya recolentados por primera vez\n",
    "\n",
    "# data_array_1 = zarr.load('Datos_lsb/datos.zarr') # formato zarr numpy\n",
    "# labels_array_1 = np.load('Datos_lsb/lsb_labels_array.npy')\n",
    "# print(f'Tamaño de los datos: {data_array_1.shape}, labels: {labels_array_1.shape}')"
   ]
  },
  {
   "cell_type": "code",
   "execution_count": 90,
   "id": "3367e596-52b8-4c9a-806a-c3d3a976483c",
   "metadata": {},
   "outputs": [],
   "source": [
    "# #Carga de los datos ya recolentados por primera vez array 2\n",
    "# data_array = zarr.load('Datos_lsb/datos2.zarr') # formato zarr numpy\n",
    "# labels_array = np.load('Datos_lsb/lsb_labels_array_2.npy')\n",
    "# print(f'Tamaño de los datos: {data_array.shape}, labels: {labels_array.shape}')"
   ]
  },
  {
   "cell_type": "code",
   "execution_count": 14,
   "id": "32d011eb-7911-4498-b9af-796665a46e37",
   "metadata": {},
   "outputs": [
    {
     "name": "stdout",
     "output_type": "stream",
     "text": [
      "Tamaño de los datos: (1785, 30, 138), labels: (1785,)\n"
     ]
    }
   ],
   "source": [
    "# #Carga de los datos ya recolentados por primera vez datos 3\n",
    "# data_array = zarr.load('Datos_lsb/datos3.zarr') # formato zarr numpy\n",
    "# labels_array = np.load('Datos_lsb/lsb_labels_array_3.npy')\n",
    "# print(f'Tamaño de los datos: {data_array.shape}, labels: {labels_array.shape}')"
   ]
  },
  {
   "cell_type": "code",
   "execution_count": 129,
   "id": "066fb0da-35fe-49fc-bf89-b2376cbc32da",
   "metadata": {},
   "outputs": [
    {
     "name": "stdout",
     "output_type": "stream",
     "text": [
      "Nuevo Tamaño de los datos: (2060, 30, 138), labels: (2060,)\n"
     ]
    }
   ],
   "source": [
    "# AGREGACIÓN, para Nuevos datos o signos recolectados \n",
    "data_array = np.concatenate((data_array, np.array(data)), axis=0)\n",
    "labels_array = np.concatenate((labels_array, np.array(label)), axis=0)\n",
    "print(f'Nuevo Tamaño de los datos: {data_array.shape}, labels: {labels_array.shape}')"
   ]
  },
  {
   "cell_type": "code",
   "execution_count": 274,
   "id": "fc075b20-2cac-45a9-99b4-5915e2a3d242",
   "metadata": {},
   "outputs": [],
   "source": [
    "# data_array = data_array[:1235]\n",
    "# labels_array = labels_array[:1235]"
   ]
  },
  {
   "cell_type": "code",
   "execution_count": 130,
   "id": "91ac8b59-8d81-44d1-8e13-329e73d63e25",
   "metadata": {},
   "outputs": [],
   "source": [
    "import pandas as pd"
   ]
  },
  {
   "cell_type": "code",
   "execution_count": 18,
   "id": "ad31f983-5cb8-47bf-8822-cfd8ae843486",
   "metadata": {},
   "outputs": [],
   "source": [
    "# Vista Cantidad de videos por cada letra o clase\n",
    "# pd.Series(labels_array).value_counts().to_frame().rename_axis('Señas').rename(columns={'count': 'Secuencias'})"
   ]
  },
  {
   "cell_type": "code",
   "execution_count": 131,
   "id": "b83f91ad-69f8-4e15-93a6-94468d686fe1",
   "metadata": {
    "scrolled": true
   },
   "outputs": [
    {
     "data": {
      "text/html": [
       "<div>\n",
       "<style scoped>\n",
       "    .dataframe tbody tr th:only-of-type {\n",
       "        vertical-align: middle;\n",
       "    }\n",
       "\n",
       "    .dataframe tbody tr th {\n",
       "        vertical-align: top;\n",
       "    }\n",
       "\n",
       "    .dataframe thead th {\n",
       "        text-align: right;\n",
       "    }\n",
       "</style>\n",
       "<table border=\"1\" class=\"dataframe\">\n",
       "  <thead>\n",
       "    <tr style=\"text-align: right;\">\n",
       "      <th></th>\n",
       "      <th>Secuencias</th>\n",
       "    </tr>\n",
       "    <tr>\n",
       "      <th>Señas</th>\n",
       "      <th></th>\n",
       "    </tr>\n",
       "  </thead>\n",
       "  <tbody>\n",
       "    <tr>\n",
       "      <th>57</th>\n",
       "      <td>50</td>\n",
       "    </tr>\n",
       "    <tr>\n",
       "      <th>48</th>\n",
       "      <td>50</td>\n",
       "    </tr>\n",
       "    <tr>\n",
       "      <th>39</th>\n",
       "      <td>50</td>\n",
       "    </tr>\n",
       "    <tr>\n",
       "      <th>41</th>\n",
       "      <td>50</td>\n",
       "    </tr>\n",
       "    <tr>\n",
       "      <th>42</th>\n",
       "      <td>50</td>\n",
       "    </tr>\n",
       "    <tr>\n",
       "      <th>43</th>\n",
       "      <td>50</td>\n",
       "    </tr>\n",
       "    <tr>\n",
       "      <th>45</th>\n",
       "      <td>50</td>\n",
       "    </tr>\n",
       "    <tr>\n",
       "      <th>46</th>\n",
       "      <td>50</td>\n",
       "    </tr>\n",
       "    <tr>\n",
       "      <th>47</th>\n",
       "      <td>50</td>\n",
       "    </tr>\n",
       "    <tr>\n",
       "      <th>44</th>\n",
       "      <td>50</td>\n",
       "    </tr>\n",
       "    <tr>\n",
       "      <th>49</th>\n",
       "      <td>50</td>\n",
       "    </tr>\n",
       "    <tr>\n",
       "      <th>53</th>\n",
       "      <td>50</td>\n",
       "    </tr>\n",
       "    <tr>\n",
       "      <th>50</th>\n",
       "      <td>50</td>\n",
       "    </tr>\n",
       "    <tr>\n",
       "      <th>55</th>\n",
       "      <td>50</td>\n",
       "    </tr>\n",
       "    <tr>\n",
       "      <th>54</th>\n",
       "      <td>50</td>\n",
       "    </tr>\n",
       "    <tr>\n",
       "      <th>56</th>\n",
       "      <td>50</td>\n",
       "    </tr>\n",
       "    <tr>\n",
       "      <th>52</th>\n",
       "      <td>50</td>\n",
       "    </tr>\n",
       "    <tr>\n",
       "      <th>51</th>\n",
       "      <td>50</td>\n",
       "    </tr>\n",
       "    <tr>\n",
       "      <th>25</th>\n",
       "      <td>40</td>\n",
       "    </tr>\n",
       "    <tr>\n",
       "      <th>40</th>\n",
       "      <td>40</td>\n",
       "    </tr>\n",
       "    <tr>\n",
       "      <th>38</th>\n",
       "      <td>30</td>\n",
       "    </tr>\n",
       "    <tr>\n",
       "      <th>37</th>\n",
       "      <td>30</td>\n",
       "    </tr>\n",
       "    <tr>\n",
       "      <th>36</th>\n",
       "      <td>30</td>\n",
       "    </tr>\n",
       "    <tr>\n",
       "      <th>35</th>\n",
       "      <td>30</td>\n",
       "    </tr>\n",
       "    <tr>\n",
       "      <th>34</th>\n",
       "      <td>30</td>\n",
       "    </tr>\n",
       "    <tr>\n",
       "      <th>33</th>\n",
       "      <td>30</td>\n",
       "    </tr>\n",
       "    <tr>\n",
       "      <th>32</th>\n",
       "      <td>30</td>\n",
       "    </tr>\n",
       "    <tr>\n",
       "      <th>31</th>\n",
       "      <td>30</td>\n",
       "    </tr>\n",
       "    <tr>\n",
       "      <th>24</th>\n",
       "      <td>30</td>\n",
       "    </tr>\n",
       "    <tr>\n",
       "      <th>29</th>\n",
       "      <td>30</td>\n",
       "    </tr>\n",
       "    <tr>\n",
       "      <th>11</th>\n",
       "      <td>30</td>\n",
       "    </tr>\n",
       "    <tr>\n",
       "      <th>0</th>\n",
       "      <td>30</td>\n",
       "    </tr>\n",
       "    <tr>\n",
       "      <th>1</th>\n",
       "      <td>30</td>\n",
       "    </tr>\n",
       "    <tr>\n",
       "      <th>2</th>\n",
       "      <td>30</td>\n",
       "    </tr>\n",
       "    <tr>\n",
       "      <th>3</th>\n",
       "      <td>30</td>\n",
       "    </tr>\n",
       "    <tr>\n",
       "      <th>4</th>\n",
       "      <td>30</td>\n",
       "    </tr>\n",
       "    <tr>\n",
       "      <th>5</th>\n",
       "      <td>30</td>\n",
       "    </tr>\n",
       "    <tr>\n",
       "      <th>6</th>\n",
       "      <td>30</td>\n",
       "    </tr>\n",
       "    <tr>\n",
       "      <th>7</th>\n",
       "      <td>30</td>\n",
       "    </tr>\n",
       "    <tr>\n",
       "      <th>8</th>\n",
       "      <td>30</td>\n",
       "    </tr>\n",
       "    <tr>\n",
       "      <th>9</th>\n",
       "      <td>30</td>\n",
       "    </tr>\n",
       "    <tr>\n",
       "      <th>10</th>\n",
       "      <td>30</td>\n",
       "    </tr>\n",
       "    <tr>\n",
       "      <th>12</th>\n",
       "      <td>30</td>\n",
       "    </tr>\n",
       "    <tr>\n",
       "      <th>28</th>\n",
       "      <td>30</td>\n",
       "    </tr>\n",
       "    <tr>\n",
       "      <th>13</th>\n",
       "      <td>30</td>\n",
       "    </tr>\n",
       "    <tr>\n",
       "      <th>14</th>\n",
       "      <td>30</td>\n",
       "    </tr>\n",
       "    <tr>\n",
       "      <th>15</th>\n",
       "      <td>30</td>\n",
       "    </tr>\n",
       "    <tr>\n",
       "      <th>16</th>\n",
       "      <td>30</td>\n",
       "    </tr>\n",
       "    <tr>\n",
       "      <th>17</th>\n",
       "      <td>30</td>\n",
       "    </tr>\n",
       "    <tr>\n",
       "      <th>18</th>\n",
       "      <td>30</td>\n",
       "    </tr>\n",
       "    <tr>\n",
       "      <th>19</th>\n",
       "      <td>30</td>\n",
       "    </tr>\n",
       "    <tr>\n",
       "      <th>20</th>\n",
       "      <td>30</td>\n",
       "    </tr>\n",
       "    <tr>\n",
       "      <th>21</th>\n",
       "      <td>30</td>\n",
       "    </tr>\n",
       "    <tr>\n",
       "      <th>22</th>\n",
       "      <td>30</td>\n",
       "    </tr>\n",
       "    <tr>\n",
       "      <th>27</th>\n",
       "      <td>30</td>\n",
       "    </tr>\n",
       "    <tr>\n",
       "      <th>30</th>\n",
       "      <td>30</td>\n",
       "    </tr>\n",
       "  </tbody>\n",
       "</table>\n",
       "</div>"
      ],
      "text/plain": [
       "       Secuencias\n",
       "Señas            \n",
       "57             50\n",
       "48             50\n",
       "39             50\n",
       "41             50\n",
       "42             50\n",
       "43             50\n",
       "45             50\n",
       "46             50\n",
       "47             50\n",
       "44             50\n",
       "49             50\n",
       "53             50\n",
       "50             50\n",
       "55             50\n",
       "54             50\n",
       "56             50\n",
       "52             50\n",
       "51             50\n",
       "25             40\n",
       "40             40\n",
       "38             30\n",
       "37             30\n",
       "36             30\n",
       "35             30\n",
       "34             30\n",
       "33             30\n",
       "32             30\n",
       "31             30\n",
       "24             30\n",
       "29             30\n",
       "11             30\n",
       "0              30\n",
       "1              30\n",
       "2              30\n",
       "3              30\n",
       "4              30\n",
       "5              30\n",
       "6              30\n",
       "7              30\n",
       "8              30\n",
       "9              30\n",
       "10             30\n",
       "12             30\n",
       "28             30\n",
       "13             30\n",
       "14             30\n",
       "15             30\n",
       "16             30\n",
       "17             30\n",
       "18             30\n",
       "19             30\n",
       "20             30\n",
       "21             30\n",
       "22             30\n",
       "27             30\n",
       "30             30"
      ]
     },
     "execution_count": 131,
     "metadata": {},
     "output_type": "execute_result"
    }
   ],
   "source": [
    "# Vista Cantidad de videos por cada letra o clase\n",
    "pd.Series(labels_array).value_counts().to_frame().rename_axis('Señas').rename(columns={'count': 'Secuencias'})"
   ]
  },
  {
   "cell_type": "code",
   "execution_count": 132,
   "id": "7af9e5a1-e847-4a6c-bf88-38e4a3741fb5",
   "metadata": {},
   "outputs": [
    {
     "data": {
      "text/plain": [
       "56"
      ]
     },
     "execution_count": 132,
     "metadata": {},
     "output_type": "execute_result"
    }
   ],
   "source": [
    "pd.Series(labels_array).nunique()"
   ]
  },
  {
   "cell_type": "code",
   "execution_count": 27,
   "id": "907c69ee-e530-4773-a3b6-b74ff91388bc",
   "metadata": {
    "jupyter": {
     "source_hidden": true
    }
   },
   "outputs": [],
   "source": [
    "# Guardado de los datos nuevamente, formato numpy, sobre escribir el archivo\n",
    "# npy_path = os.path.join(carpeta,'lsb_array')\n",
    "# npy_pathlb = os.path.join(carpeta,'lsb_labels_array')\n",
    "# np.save(npy_path, data_array)\n",
    "# np.save(npy_pathlb, labels_array)"
   ]
  },
  {
   "cell_type": "code",
   "execution_count": 30,
   "id": "b3ddfcc5-b912-414a-9b1d-d809b2ce8cae",
   "metadata": {},
   "outputs": [],
   "source": [
    "# GUARDADO DE DATOS, formato zarr y npy 1\n",
    "# path_labels = os.path.join(carpeta,'lsb_labels_array') # path\n",
    "# zarr.save('Datos_lsb/datos.zarr', data_array_1) # datos o features\n",
    "# np.save(path_labels, labels_array_1) # etiquetas o labels"
   ]
  },
  {
   "cell_type": "code",
   "execution_count": 18,
   "id": "06960b0e-4b71-44fa-b406-5e07a6b8494b",
   "metadata": {},
   "outputs": [],
   "source": [
    "# GUARDADO DE DATOS, formato zarr y npy 2\n",
    "# path_labels = os.path.join(carpeta,'lsb_labels_array_2') # path\n",
    "# zarr.save('Datos_lsb/datos2.zarr', data_array) # datos o features\n",
    "# np.save(path_labels, labels_array) # etiquetas o labels"
   ]
  },
  {
   "cell_type": "code",
   "execution_count": 133,
   "id": "b89a7d94-cd6c-4a8f-b5d1-129af8c3a2ec",
   "metadata": {
    "scrolled": true
   },
   "outputs": [],
   "source": [
    "# GUARDADO DE DATOS, formato zarr y npy 3\n",
    "path_labels = os.path.join(carpeta,'lsb_labels_array_3') # path\n",
    "zarr.save('Datos_lsb/datos3.zarr', data_array) # datos o features\n",
    "np.save(path_labels, labels_array) # etiquetas o labels"
   ]
  },
  {
   "cell_type": "markdown",
   "id": "75b244ec-20cd-4ef6-a7db-cbe37361b0e1",
   "metadata": {},
   "source": [
    "### Union de los datos procesados obtenidos"
   ]
  },
  {
   "cell_type": "code",
   "execution_count": 3,
   "id": "d07d6156-1f46-4e56-98f3-71dd1c686feb",
   "metadata": {},
   "outputs": [
    {
     "name": "stdout",
     "output_type": "stream",
     "text": [
      "Tamaño de los datos 1: (1870, 30, 138), labels: (1870,)\n"
     ]
    }
   ],
   "source": [
    "# Carga de los datos zarr  1 recolentados\n",
    "# data_array_1 = zarr.load('Datos_lsb/datos.zarr')\n",
    "# labels_array_1 = np.load('Datos_lsb/lsb_labels_array.npy')\n",
    "# print(f'Tamaño de los datos 1: {data_array_1.shape}, labels: {labels_array_1.shape}')"
   ]
  },
  {
   "cell_type": "code",
   "execution_count": 4,
   "id": "f61d97ed-21c0-442f-9cad-08386fb43756",
   "metadata": {},
   "outputs": [
    {
     "name": "stdout",
     "output_type": "stream",
     "text": [
      "Tamaño de los datos 2: (1110, 30, 138), labels: (1110,)\n"
     ]
    }
   ],
   "source": [
    "# Carga de los datos 2\n",
    "data_array_2 = zarr.load('Datos_lsb/datos2.zarr')\n",
    "labels_array_2 = np.load('Datos_lsb/lsb_labels_array_2.npy')\n",
    "print(f'Tamaño de los datos 2: {data_array_2.shape}, labels: {labels_array_2.shape}')"
   ]
  },
  {
   "cell_type": "code",
   "execution_count": 5,
   "id": "e47b31a6-b5ab-44d2-8953-71a6487c2e09",
   "metadata": {},
   "outputs": [
    {
     "name": "stdout",
     "output_type": "stream",
     "text": [
      "Nuevo Tamaño de los datos total: (2980, 30, 138), labels: (2980,)\n"
     ]
    }
   ],
   "source": [
    "data_array = np.concatenate((data_array_1, data_array_2), axis=0)\n",
    "labels_array = np.concatenate((labels_array_1, labels_array_2), axis=0)\n",
    "print(f'Nuevo Tamaño de los datos total: {data_array.shape}, labels: {labels_array.shape}')"
   ]
  },
  {
   "cell_type": "code",
   "execution_count": 8,
   "id": "36c8044b-b304-43ce-9207-51464ddd13c7",
   "metadata": {},
   "outputs": [],
   "source": [
    "# GUARDADO DE DATOS\n",
    "# formato zarr\n",
    "path_labels = os.path.join(carpeta,'lsb_etiquetas') # path\n",
    "zarr.save('Datos_lsb/datos_lsb.zarr', data_array) # datos o features\n",
    "np.save(path_labels, labels_array) # etiquetas o labels"
   ]
  }
 ],
 "metadata": {
  "kernelspec": {
   "display_name": "Python 3 (ipykernel)",
   "language": "python",
   "name": "python3"
  },
  "language_info": {
   "codemirror_mode": {
    "name": "ipython",
    "version": 3
   },
   "file_extension": ".py",
   "mimetype": "text/x-python",
   "name": "python",
   "nbconvert_exporter": "python",
   "pygments_lexer": "ipython3",
   "version": "3.10.10"
  }
 },
 "nbformat": 4,
 "nbformat_minor": 5
}
